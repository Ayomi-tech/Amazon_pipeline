{
 "cells": [
  {
   "cell_type": "code",
   "execution_count": 98,
   "id": "865a7f7f",
   "metadata": {},
   "outputs": [],
   "source": [
    "from bs4 import BeautifulSoup\n",
    "import requests\n",
    "import time\n",
    "import datetime\n",
    "import smtplib\n",
    "from datetime import datetime, timedelta, timezone\n",
    "import pandas as pd\n",
    "import csv"
   ]
  },
  {
   "cell_type": "code",
   "execution_count": 76,
   "id": "0de67768",
   "metadata": {},
   "outputs": [
    {
     "name": "stdout",
     "output_type": "stream",
     "text": [
      "\n",
      "              Funny Got Data MIS Data Systems Business Analyst T-Shirt\n",
      "             \n",
      "\n",
      "               €18.49\n",
      "              \n"
     ]
    }
   ],
   "source": [
    "#connect to website\n",
    "\n",
    "URL = 'https://www.amazon.de/-/en/Funny-Systems-Business-Analyst-T-Shirt/dp/B09F32Q8J8/ref=sr_1_2?crid=28OIMDLX8S9WE&keywords=data_analyst%2Btshirt&qid=1683369135&s=amazon-devices&sprefix=data_analyst%2Btshirt%2Camazon-devices%2C425&sr=1-2&customId=B07536XX75&customizationToken=MC_Assembly_1%23B07536XX75&th=1'\n",
    "\n",
    "#headers = {\"User-Agent\": \"User-Agent\": \"Mozilla/5.0 (Macintosh; Intel Mac OS X 10_15_7) AppleWebKit/537.36 (KHTML, like Gecko) Chrome/112.0.0.0 Safari/537.36\"}\n",
    "\n",
    "headers = {\"User-Agent\": \"Mozilla/5.0 (Macintosh; Intel Mac OS X 10_15_7) AppleWebKit/537.36 (KHTML, like Gecko) Chrome/112.0.0.0 Safari/537.36\", \"Accept-Encoding\":\"gzip, deflate\", \"Accept\":\"text/html,application/xhtml+xml,application/xml;q=0.9,*/*;q=0.8\",\"DNT\":\"1\",\"Connection\":\"close\", \"Upgrade-Insecure-Requests\":\"1\"}\n",
    "\n",
    "\n",
    "\n",
    "page = requests.get(URL, headers=headers)\n",
    "\n",
    "soup1 = BeautifulSoup(page.content, \"html.parser\")\n",
    "\n",
    "soup2 = BeautifulSoup(soup1.prettify(), \"html.parser\")\n",
    "\n",
    "title = soup2.find(id='productTitle').get_text()\n",
    "\n",
    "price = soup2.find(class_='a-offscreen').get_text()  # need to add _ to class for the code to work\n",
    "\n",
    "\n",
    "\n",
    "print(title)\n",
    "print(price)\n",
    "\n",
    "\n",
    " "
   ]
  },
  {
   "cell_type": "code",
   "execution_count": 77,
   "id": "c0fa076f",
   "metadata": {},
   "outputs": [],
   "source": [
    "#strip off the white space of the price and title\n",
    "price.strip() \n",
    "title = title.strip()"
   ]
  },
  {
   "cell_type": "code",
   "execution_count": 78,
   "id": "d8d366e8",
   "metadata": {},
   "outputs": [],
   "source": [
    "#strip off the $ sign \n",
    "price = price.strip()[1:]"
   ]
  },
  {
   "cell_type": "code",
   "execution_count": 79,
   "id": "803a391a",
   "metadata": {},
   "outputs": [
    {
     "name": "stdout",
     "output_type": "stream",
     "text": [
      "Funny Got Data MIS Data Systems Business Analyst T-Shirt\n",
      "18.49\n"
     ]
    }
   ],
   "source": [
    "print(title)\n",
    "print(price)"
   ]
  },
  {
   "cell_type": "code",
   "execution_count": 80,
   "id": "8e3a0bcb",
   "metadata": {},
   "outputs": [
    {
     "name": "stdout",
     "output_type": "stream",
     "text": [
      "2023-05-07\n"
     ]
    }
   ],
   "source": [
    "# preparing date for the dataframe\n",
    "today = datetime.today().strftime('%Y-%m-%d')\n",
    "\n",
    "print(today)"
   ]
  },
  {
   "cell_type": "code",
   "execution_count": 89,
   "id": "cdccd716",
   "metadata": {},
   "outputs": [],
   "source": [
    "import csv\n",
    "\n",
    "# creating the dataframe\n",
    "header =['Title', 'Price', 'Date']\n",
    "data = [title, price, today]\n",
    "\n",
    "\n",
    "#saving data to dataframe\n",
    "with open('Amazonscrapedata.csv', 'w', newline='', encoding='UTF8')as f:\n",
    "    writer = csv.writer(f)\n",
    "    writer.writerow(header)\n",
    "    writer.writerow(data)\n",
    "\n"
   ]
  },
  {
   "cell_type": "code",
   "execution_count": 112,
   "id": "036bde17",
   "metadata": {},
   "outputs": [
    {
     "data": {
      "text/html": [
       "<div>\n",
       "<style scoped>\n",
       "    .dataframe tbody tr th:only-of-type {\n",
       "        vertical-align: middle;\n",
       "    }\n",
       "\n",
       "    .dataframe tbody tr th {\n",
       "        vertical-align: top;\n",
       "    }\n",
       "\n",
       "    .dataframe thead th {\n",
       "        text-align: right;\n",
       "    }\n",
       "</style>\n",
       "<table border=\"1\" class=\"dataframe\">\n",
       "  <thead>\n",
       "    <tr style=\"text-align: right;\">\n",
       "      <th></th>\n",
       "      <th>Title</th>\n",
       "      <th>Price</th>\n",
       "      <th>Date</th>\n",
       "    </tr>\n",
       "  </thead>\n",
       "  <tbody>\n",
       "    <tr>\n",
       "      <th>0</th>\n",
       "      <td>Funny Got Data MIS Data Systems Business Analy...</td>\n",
       "      <td>18.49</td>\n",
       "      <td>2023-05-07</td>\n",
       "    </tr>\n",
       "    <tr>\n",
       "      <th>1</th>\n",
       "      <td>Funny Got Data MIS Data Systems Business Analy...</td>\n",
       "      <td>18.49</td>\n",
       "      <td>2023-05-07</td>\n",
       "    </tr>\n",
       "  </tbody>\n",
       "</table>\n",
       "</div>"
      ],
      "text/plain": [
       "                                               Title  Price        Date\n",
       "0  Funny Got Data MIS Data Systems Business Analy...  18.49  2023-05-07\n",
       "1  Funny Got Data MIS Data Systems Business Analy...  18.49  2023-05-07"
      ]
     },
     "execution_count": 112,
     "metadata": {},
     "output_type": "execute_result"
    }
   ],
   "source": [
    "df = pd.read_csv('Amazonscrapedata.csv')\n",
    "df"
   ]
  },
  {
   "cell_type": "code",
   "execution_count": 94,
   "id": "55b350c8",
   "metadata": {},
   "outputs": [],
   "source": [
    "# appending data to the csv\n",
    "# replace 'w' with a+\n",
    "# remove the header..  writer.writerow(header)\n",
    "\n",
    "\n",
    "with open('Amazonscrapedata.csv', 'a+', newline='', encoding='UTF8')as f:  #replace 'w' with a+\n",
    "    writer = csv.writer(f)\n",
    "    writer.writerow(data)"
   ]
  },
  {
   "cell_type": "code",
   "execution_count": null,
   "id": "ebbba198",
   "metadata": {},
   "outputs": [],
   "source": []
  },
  {
   "cell_type": "code",
   "execution_count": null,
   "id": "cb9b85f5",
   "metadata": {},
   "outputs": [],
   "source": [
    "def check_price():\n",
    "#connect to website\n",
    "    URL = 'https://www.amazon.de/-/en/Funny-Systems-Business-Analyst-T-Shirt/dp/B09F32Q8J8/ref=sr_1_2?crid=28OIMDLX8S9WE&keywords=data_analyst%2Btshirt&qid=1683369135&s=amazon-devices&sprefix=data_analyst%2Btshirt%2Camazon-devices%2C425&sr=1-2&customId=B07536XX75&customizationToken=MC_Assembly_1%23B07536XX75&th=1'\n",
    "\n",
    "#headers = {\"User-Agent\": \"User-Agent\": \"Mozilla/5.0 (Macintosh; Intel Mac OS X 10_15_7) AppleWebKit/537.36 (KHTML, like Gecko) Chrome/112.0.0.0 Safari/537.36\"}\n",
    "    headers = {\"User-Agent\": \"Mozilla/5.0 (Macintosh; Intel Mac OS X 10_15_7) AppleWebKit/537.36 (KHTML, like Gecko) Chrome/112.0.0.0 Safari/537.36\", \"Accept-Encoding\":\"gzip, deflate\", \"Accept\":\"text/html,application/xhtml+xml,application/xml;q=0.9,*/*;q=0.8\",\"DNT\":\"1\",\"Connection\":\"close\", \"Upgrade-Insecure-Requests\":\"1\"}\n",
    "    \n",
    "    page = requests.get(URL, headers=headers)\n",
    "\n",
    "    soup1 = BeautifulSoup(page.content, \"html.parser\")\n",
    "\n",
    "    soup2 = BeautifulSoup(soup1.prettify(), \"html.parser\")\n",
    "\n",
    "    title = soup2.find(id='productTitle').get_text()\n",
    "\n",
    "    price = soup2.find(class_='a-offscreen').get_text()  # need to add _ to class for the code to work\n",
    "    \n",
    "#strip off the white space of the price and title\n",
    "    price.strip() \n",
    "    title = title.strip()\n",
    "    \n",
    "#strip off the $ sign \n",
    "    price = price.strip()[1:]\n",
    "    \n",
    "# preparing date for the dataframe\n",
    "    today = datetime.today().strftime('%Y-%m-%d')\n",
    "\n",
    "\n",
    "# creating the dataframe\n",
    "    header =['Title', 'Price', 'Date']\n",
    "    data = [title, price, today]\n",
    "    \n",
    "# appending data to the csv\n",
    "# replace 'w' with a+\n",
    "\n",
    "    with open('Amazonscrapedata.csv', 'a+', newline='', encoding='UTF8')as f:  #replace 'w' with a+\n",
    "        writer = csv.writer(f)\n",
    "        writer.writerow(data)\n",
    "        \n",
    "        if (price < 15):\n",
    "            send_mail()\n",
    "        "
   ]
  },
  {
   "cell_type": "code",
   "execution_count": null,
   "id": "8c7a778a",
   "metadata": {},
   "outputs": [],
   "source": [
    "#Running the function to scrape our targetted data\n",
    "while(True):\n",
    "    check_price()\n",
    "    time.sleep(21600)   #Running the function every 21600 seconds(6 hrs)"
   ]
  },
  {
   "cell_type": "code",
   "execution_count": null,
   "id": "0a1baa62",
   "metadata": {},
   "outputs": [],
   "source": []
  },
  {
   "cell_type": "code",
   "execution_count": 115,
   "id": "df2b5869",
   "metadata": {},
   "outputs": [
    {
     "data": {
      "text/html": [
       "<div>\n",
       "<style scoped>\n",
       "    .dataframe tbody tr th:only-of-type {\n",
       "        vertical-align: middle;\n",
       "    }\n",
       "\n",
       "    .dataframe tbody tr th {\n",
       "        vertical-align: top;\n",
       "    }\n",
       "\n",
       "    .dataframe thead th {\n",
       "        text-align: right;\n",
       "    }\n",
       "</style>\n",
       "<table border=\"1\" class=\"dataframe\">\n",
       "  <thead>\n",
       "    <tr style=\"text-align: right;\">\n",
       "      <th></th>\n",
       "      <th>Title</th>\n",
       "      <th>Price</th>\n",
       "      <th>Date</th>\n",
       "    </tr>\n",
       "  </thead>\n",
       "  <tbody>\n",
       "    <tr>\n",
       "      <th>0</th>\n",
       "      <td>Funny Got Data MIS Data Systems Business Analy...</td>\n",
       "      <td>18.49</td>\n",
       "      <td>2023-05-07</td>\n",
       "    </tr>\n",
       "    <tr>\n",
       "      <th>1</th>\n",
       "      <td>Funny Got Data MIS Data Systems Business Analy...</td>\n",
       "      <td>18.49</td>\n",
       "      <td>2023-05-07</td>\n",
       "    </tr>\n",
       "    <tr>\n",
       "      <th>2</th>\n",
       "      <td>Funny Got Data MIS Data Systems Business Analy...</td>\n",
       "      <td>18.49</td>\n",
       "      <td>2023-05-07</td>\n",
       "    </tr>\n",
       "    <tr>\n",
       "      <th>3</th>\n",
       "      <td>Funny Got Data MIS Data Systems Business Analy...</td>\n",
       "      <td>18.49</td>\n",
       "      <td>2023-05-07</td>\n",
       "    </tr>\n",
       "    <tr>\n",
       "      <th>4</th>\n",
       "      <td>Funny Got Data MIS Data Systems Business Analy...</td>\n",
       "      <td>18.49</td>\n",
       "      <td>2023-05-07</td>\n",
       "    </tr>\n",
       "    <tr>\n",
       "      <th>5</th>\n",
       "      <td>Funny Got Data MIS Data Systems Business Analy...</td>\n",
       "      <td>18.49</td>\n",
       "      <td>2023-05-07</td>\n",
       "    </tr>\n",
       "    <tr>\n",
       "      <th>6</th>\n",
       "      <td>Funny Got Data MIS Data Systems Business Analy...</td>\n",
       "      <td>18.49</td>\n",
       "      <td>2023-05-07</td>\n",
       "    </tr>\n",
       "    <tr>\n",
       "      <th>7</th>\n",
       "      <td>Funny Got Data MIS Data Systems Business Analy...</td>\n",
       "      <td>18.49</td>\n",
       "      <td>2023-05-07</td>\n",
       "    </tr>\n",
       "    <tr>\n",
       "      <th>8</th>\n",
       "      <td>Funny Got Data MIS Data Systems Business Analy...</td>\n",
       "      <td>18.49</td>\n",
       "      <td>2023-05-07</td>\n",
       "    </tr>\n",
       "    <tr>\n",
       "      <th>9</th>\n",
       "      <td>Funny Got Data MIS Data Systems Business Analy...</td>\n",
       "      <td>18.49</td>\n",
       "      <td>2023-05-07</td>\n",
       "    </tr>\n",
       "  </tbody>\n",
       "</table>\n",
       "</div>"
      ],
      "text/plain": [
       "                                               Title  Price        Date\n",
       "0  Funny Got Data MIS Data Systems Business Analy...  18.49  2023-05-07\n",
       "1  Funny Got Data MIS Data Systems Business Analy...  18.49  2023-05-07\n",
       "2  Funny Got Data MIS Data Systems Business Analy...  18.49  2023-05-07\n",
       "3  Funny Got Data MIS Data Systems Business Analy...  18.49  2023-05-07\n",
       "4  Funny Got Data MIS Data Systems Business Analy...  18.49  2023-05-07\n",
       "5  Funny Got Data MIS Data Systems Business Analy...  18.49  2023-05-07\n",
       "6  Funny Got Data MIS Data Systems Business Analy...  18.49  2023-05-07\n",
       "7  Funny Got Data MIS Data Systems Business Analy...  18.49  2023-05-07\n",
       "8  Funny Got Data MIS Data Systems Business Analy...  18.49  2023-05-07\n",
       "9  Funny Got Data MIS Data Systems Business Analy...  18.49  2023-05-07"
      ]
     },
     "execution_count": 115,
     "metadata": {},
     "output_type": "execute_result"
    }
   ],
   "source": [
    "df = pd.read_csv('Amazonscrapedata.csv')\n",
    "df"
   ]
  },
  {
   "cell_type": "code",
   "execution_count": null,
   "id": "27cec87d",
   "metadata": {},
   "outputs": [],
   "source": []
  },
  {
   "cell_type": "code",
   "execution_count": null,
   "id": "813f98c4",
   "metadata": {},
   "outputs": [],
   "source": [
    "# Send me an email if the price of the shirt drop below 15.\n",
    "\n",
    "def send_mail:\n",
    "    server = smtplib.SMTP_SSL('smtp.gmail.com',465)\n",
    "    server.ehlo()\n",
    "    #server.starttls()\n",
    "    server.ehlo()\n",
    "    server.login('your email', 'your password')\n",
    "    \n",
    "    subject = 'The Data shirt you wanna buy is below $15! now, is your chance to buy!'\n",
    "    body    = 'Ayo, lets go get it'\n",
    "    \n",
    "    msg = f\"subject: {subject}\\n\\n{body}\"\n",
    "    \n",
    "    server.sendmail('your email', msg)\n",
    "    \n",
    "    "
   ]
  },
  {
   "cell_type": "code",
   "execution_count": null,
   "id": "2883e1c6",
   "metadata": {},
   "outputs": [],
   "source": []
  },
  {
   "cell_type": "code",
   "execution_count": null,
   "id": "a30dccd9",
   "metadata": {},
   "outputs": [],
   "source": []
  },
  {
   "cell_type": "code",
   "execution_count": null,
   "id": "2e56f750",
   "metadata": {},
   "outputs": [],
   "source": []
  }
 ],
 "metadata": {
  "kernelspec": {
   "display_name": "Python 3 (ipykernel)",
   "language": "python",
   "name": "python3"
  },
  "language_info": {
   "codemirror_mode": {
    "name": "ipython",
    "version": 3
   },
   "file_extension": ".py",
   "mimetype": "text/x-python",
   "name": "python",
   "nbconvert_exporter": "python",
   "pygments_lexer": "ipython3",
   "version": "3.10.9"
  }
 },
 "nbformat": 4,
 "nbformat_minor": 5
}
