{
 "cells": [
  {
   "cell_type": "code",
   "execution_count": 2,
   "id": "7a812364",
   "metadata": {},
   "outputs": [
    {
     "data": {
      "text/plain": [
       "int"
      ]
     },
     "execution_count": 2,
     "metadata": {},
     "output_type": "execute_result"
    }
   ],
   "source": [
    "#Int\n",
    "x = 3\n",
    "type(x)"
   ]
  },
  {
   "cell_type": "code",
   "execution_count": null,
   "id": "7d453a0a",
   "metadata": {},
   "outputs": [],
   "source": []
  },
  {
   "cell_type": "code",
   "execution_count": 4,
   "id": "bdf6560e",
   "metadata": {},
   "outputs": [
    {
     "name": "stdout",
     "output_type": "stream",
     "text": [
      "back to python\n"
     ]
    }
   ],
   "source": [
    "#Strings\n",
    "\n",
    "y = \"back to python\"\n",
    "\n",
    "print(y)"
   ]
  },
  {
   "cell_type": "code",
   "execution_count": 15,
   "id": "557c38b0",
   "metadata": {},
   "outputs": [
    {
     "name": "stdout",
     "output_type": "stream",
     "text": [
      "Hello\n"
     ]
    }
   ],
   "source": [
    "#slicing strings\n",
    "\n",
    "a = 'Hello World!'         \n",
    "print(a[:5])             #[:5] get values from 0-5"
   ]
  },
  {
   "cell_type": "code",
   "execution_count": 18,
   "id": "aa8012bf",
   "metadata": {},
   "outputs": [
    {
     "name": "stdout",
     "output_type": "stream",
     "text": [
      "ell\n"
     ]
    }
   ],
   "source": [
    "print(a[1:4])     #[1:4] get values from 1 to 4"
   ]
  },
  {
   "cell_type": "code",
   "execution_count": 17,
   "id": "002cc8b3",
   "metadata": {},
   "outputs": [
    {
     "name": "stdout",
     "output_type": "stream",
     "text": [
      "W\n"
     ]
    }
   ],
   "source": [
    "print(a[6])        #[6] get value number 6"
   ]
  },
  {
   "cell_type": "code",
   "execution_count": 12,
   "id": "153cf6e0",
   "metadata": {},
   "outputs": [
    {
     "name": "stdout",
     "output_type": "stream",
     "text": [
      "r\n"
     ]
    }
   ],
   "source": [
    "print(a[-4])       #[-4] get values from -0 to -4"
   ]
  },
  {
   "cell_type": "markdown",
   "id": "556dd344",
   "metadata": {},
   "source": [
    "# DATA STRUCTURES"
   ]
  },
  {
   "cell_type": "markdown",
   "id": "cb6d7bb5",
   "metadata": {},
   "source": [
    "# LIST: You can store any data value in LIST...data can be INT, STRING\n"
   ]
  },
  {
   "cell_type": "code",
   "execution_count": 41,
   "id": "cbc18b85",
   "metadata": {},
   "outputs": [
    {
     "data": {
      "text/plain": [
       "[1, 2, 3]"
      ]
     },
     "execution_count": 41,
     "metadata": {},
     "output_type": "execute_result"
    }
   ],
   "source": [
    "[1,2,3]"
   ]
  },
  {
   "cell_type": "code",
   "execution_count": 20,
   "id": "af1e9f1e",
   "metadata": {},
   "outputs": [
    {
     "data": {
      "text/plain": [
       "['Mango', 'Orange', 3, ['house', 'book'], 'year', 'month']"
      ]
     },
     "execution_count": 20,
     "metadata": {},
     "output_type": "execute_result"
    }
   ],
   "source": [
    "['Mango', 'Orange', 3, ['house', 'book'], 'year', 'month'] # list can contain different type of data-- nested list"
   ]
  },
  {
   "cell_type": "code",
   "execution_count": 27,
   "id": "88cc00a0",
   "metadata": {},
   "outputs": [
    {
     "data": {
      "text/plain": [
       "['cookie Dough', 'Strawberry', 'chocolate']"
      ]
     },
     "execution_count": 27,
     "metadata": {},
     "output_type": "execute_result"
    }
   ],
   "source": [
    "ice_cream = ['cookie Dough', 'Strawberry', 'chocolate']\n",
    "ice_cream"
   ]
  },
  {
   "cell_type": "code",
   "execution_count": 28,
   "id": "63ba12aa",
   "metadata": {},
   "outputs": [
    {
     "data": {
      "text/plain": [
       "['cookie Dough', 'Strawberry', 'chocolate', 'caramel']"
      ]
     },
     "execution_count": 28,
     "metadata": {},
     "output_type": "execute_result"
    }
   ],
   "source": [
    "#we can as well append to the list of our fruit\n",
    "ice_cream.append('caramel')\n",
    "ice_cream"
   ]
  },
  {
   "cell_type": "code",
   "execution_count": 30,
   "id": "6f602ef6",
   "metadata": {},
   "outputs": [
    {
     "data": {
      "text/plain": [
       "['Butter Pecan', 'Strawberry', 'chocolate', 'caramel']"
      ]
     },
     "execution_count": 30,
     "metadata": {},
     "output_type": "execute_result"
    }
   ],
   "source": [
    "#we can also chnage the value of our list\n",
    "\n",
    "ice_cream[0]= 'Butter Pecan'  # this change the value in position [0] from 'cookie Dough' to 'Butter Pecan'\n",
    "ice_cream"
   ]
  },
  {
   "cell_type": "code",
   "execution_count": 35,
   "id": "3f9bd15f",
   "metadata": {},
   "outputs": [
    {
     "data": {
      "text/plain": [
       "['house', 'book']"
      ]
     },
     "execution_count": 35,
     "metadata": {},
     "output_type": "execute_result"
    }
   ],
   "source": [
    "#nested list\n",
    "\n",
    "nested_list = ['Mango', 'Orange', 3, ['house', 'book'], 'year', 'month']\n",
    "nested_list[3]"
   ]
  },
  {
   "cell_type": "code",
   "execution_count": 38,
   "id": "adfcdf30",
   "metadata": {},
   "outputs": [
    {
     "data": {
      "text/plain": [
       "'house'"
      ]
     },
     "execution_count": 38,
     "metadata": {},
     "output_type": "execute_result"
    }
   ],
   "source": [
    "nested_list[3][0]"
   ]
  },
  {
   "cell_type": "code",
   "execution_count": 37,
   "id": "43a2349d",
   "metadata": {},
   "outputs": [
    {
     "data": {
      "text/plain": [
       "'Orange'"
      ]
     },
     "execution_count": 37,
     "metadata": {},
     "output_type": "execute_result"
    }
   ],
   "source": [
    "nested_list[1]"
   ]
  },
  {
   "cell_type": "code",
   "execution_count": null,
   "id": "158c3639",
   "metadata": {},
   "outputs": [],
   "source": []
  },
  {
   "cell_type": "markdown",
   "id": "b8193c09",
   "metadata": {},
   "source": [
    "# Tuple: It can be modify after created.....IMMUTABLE.... Create with ( )\n",
    "we can only iterate through tuple but can append, delete or replace values"
   ]
  },
  {
   "cell_type": "code",
   "execution_count": 39,
   "id": "44ebb404",
   "metadata": {},
   "outputs": [
    {
     "data": {
      "text/plain": [
       "tuple"
      ]
     },
     "execution_count": 39,
     "metadata": {},
     "output_type": "execute_result"
    }
   ],
   "source": [
    "tuple_scoops = (1,2,3,2,1)\n",
    "type(tuple_scoops)"
   ]
  },
  {
   "cell_type": "code",
   "execution_count": 40,
   "id": "671dc7f6",
   "metadata": {},
   "outputs": [
    {
     "data": {
      "text/plain": [
       "3"
      ]
     },
     "execution_count": 40,
     "metadata": {},
     "output_type": "execute_result"
    }
   ],
   "source": [
    "tuple_scoops[2]"
   ]
  },
  {
   "cell_type": "code",
   "execution_count": null,
   "id": "7457fa3b",
   "metadata": {},
   "outputs": [],
   "source": []
  },
  {
   "cell_type": "markdown",
   "id": "750f6012",
   "metadata": {},
   "source": [
    "SETS: set don't have or allow any duplicate element, values within set cant be access using index because it doesn't\n",
    "have index and it is unordered.. we can only access it element with For Loops"
   ]
  },
  {
   "cell_type": "code",
   "execution_count": 43,
   "id": "39ae6a95",
   "metadata": {},
   "outputs": [
    {
     "data": {
      "text/plain": [
       "set"
      ]
     },
     "execution_count": 43,
     "metadata": {},
     "output_type": "execute_result"
    }
   ],
   "source": [
    "daily_pints = {1,2,3}\n",
    "type(daily_pints)"
   ]
  },
  {
   "cell_type": "code",
   "execution_count": 44,
   "id": "31b986c3",
   "metadata": {},
   "outputs": [
    {
     "data": {
      "text/plain": [
       "{1, 2, 3}"
      ]
     },
     "execution_count": 44,
     "metadata": {},
     "output_type": "execute_result"
    }
   ],
   "source": [
    "daily_pints"
   ]
  },
  {
   "cell_type": "code",
   "execution_count": 46,
   "id": "66d15249",
   "metadata": {},
   "outputs": [
    {
     "data": {
      "text/plain": [
       "{1, 2, 3, 4, 8, 23, 31}"
      ]
     },
     "execution_count": 46,
     "metadata": {},
     "output_type": "execute_result"
    }
   ],
   "source": [
    "daily_pints_log = {1,2,31,2,3,4,8,1,23,2,3}  #set will rearrange the output in ascending order without duplicate\n",
    "daily_pints_log"
   ]
  },
  {
   "cell_type": "code",
   "execution_count": 48,
   "id": "0c3f431f",
   "metadata": {},
   "outputs": [],
   "source": [
    "wife_daily_pints_log ={1,3,5,7,2,24,5,7,3,2,0}"
   ]
  },
  {
   "cell_type": "code",
   "execution_count": 49,
   "id": "f098113c",
   "metadata": {},
   "outputs": [
    {
     "name": "stdout",
     "output_type": "stream",
     "text": [
      "{0, 1, 2, 3, 4, 5, 7, 8, 23, 24, 31}\n"
     ]
    }
   ],
   "source": [
    "#getiing the unique values between the above two sets\n",
    "\n",
    "print(daily_pints_log | wife_daily_pints_log)"
   ]
  },
  {
   "cell_type": "code",
   "execution_count": 50,
   "id": "cff9349f",
   "metadata": {},
   "outputs": [
    {
     "name": "stdout",
     "output_type": "stream",
     "text": [
      "{1, 2, 3}\n"
     ]
    }
   ],
   "source": [
    "#getiing the union values between the above two sets\n",
    "print(daily_pints_log & wife_daily_pints_log)"
   ]
  },
  {
   "cell_type": "code",
   "execution_count": 51,
   "id": "e05748f1",
   "metadata": {},
   "outputs": [
    {
     "name": "stdout",
     "output_type": "stream",
     "text": [
      "{8, 4, 31, 23}\n"
     ]
    }
   ],
   "source": [
    "#getiing the values that didn't appear between the above two sets\n",
    "print(daily_pints_log - wife_daily_pints_log)"
   ]
  },
  {
   "cell_type": "code",
   "execution_count": 52,
   "id": "355199fc",
   "metadata": {},
   "outputs": [
    {
     "name": "stdout",
     "output_type": "stream",
     "text": [
      "{0, 24, 5, 7}\n"
     ]
    }
   ],
   "source": [
    "print(wife_daily_pints_log - daily_pints_log )"
   ]
  },
  {
   "cell_type": "code",
   "execution_count": 53,
   "id": "8f3746df",
   "metadata": {},
   "outputs": [
    {
     "name": "stdout",
     "output_type": "stream",
     "text": [
      "{0, 4, 5, 7, 8, 23, 24, 31}\n"
     ]
    }
   ],
   "source": [
    "#getiing the values that didn't appear in both two sets\n",
    "print(daily_pints_log ^ wife_daily_pints_log)"
   ]
  },
  {
   "cell_type": "code",
   "execution_count": null,
   "id": "c0314012",
   "metadata": {},
   "outputs": [],
   "source": []
  },
  {
   "cell_type": "markdown",
   "id": "ab0ad34f",
   "metadata": {},
   "source": [
    "# DICTIONARIES \n",
    "\n",
    "kEY/VALUE PAIR"
   ]
  },
  {
   "cell_type": "code",
   "execution_count": 54,
   "id": "22304977",
   "metadata": {},
   "outputs": [
    {
     "data": {
      "text/plain": [
       "dict"
      ]
     },
     "execution_count": 54,
     "metadata": {},
     "output_type": "execute_result"
    }
   ],
   "source": [
    "dict_cream = {'name': 'Ayodeji', 'weekly intake': 5, 'favorite ice cream':['MCC', 'Chocolate']}\n",
    "type(dict_cream)"
   ]
  },
  {
   "cell_type": "code",
   "execution_count": 56,
   "id": "55b3f2e5",
   "metadata": {},
   "outputs": [
    {
     "data": {
      "text/plain": [
       "dict_keys(['name', 'weekly intake', 'favorite ice cream'])"
      ]
     },
     "execution_count": 56,
     "metadata": {},
     "output_type": "execute_result"
    }
   ],
   "source": [
    "dict_cream.keys()"
   ]
  },
  {
   "cell_type": "code",
   "execution_count": 57,
   "id": "8874911c",
   "metadata": {},
   "outputs": [
    {
     "data": {
      "text/plain": [
       "dict_values(['Ayodeji', 5, ['MCC', 'Chocolate']])"
      ]
     },
     "execution_count": 57,
     "metadata": {},
     "output_type": "execute_result"
    }
   ],
   "source": [
    "dict_cream.values()"
   ]
  },
  {
   "cell_type": "code",
   "execution_count": 58,
   "id": "c1a53bab",
   "metadata": {},
   "outputs": [
    {
     "data": {
      "text/plain": [
       "dict_items([('name', 'Ayodeji'), ('weekly intake', 5), ('favorite ice cream', ['MCC', 'Chocolate'])])"
      ]
     },
     "execution_count": 58,
     "metadata": {},
     "output_type": "execute_result"
    }
   ],
   "source": [
    "dict_cream.items()"
   ]
  },
  {
   "cell_type": "code",
   "execution_count": 61,
   "id": "1930ea4a",
   "metadata": {},
   "outputs": [
    {
     "data": {
      "text/plain": [
       "'Ayodeji'"
      ]
     },
     "execution_count": 61,
     "metadata": {},
     "output_type": "execute_result"
    }
   ],
   "source": [
    "#accessing dict\n",
    "\n",
    "dict_cream['name']"
   ]
  },
  {
   "cell_type": "code",
   "execution_count": 65,
   "id": "05176f28",
   "metadata": {},
   "outputs": [
    {
     "name": "stdout",
     "output_type": "stream",
     "text": [
      "{'name': 'Ayodeji Agunbiade', 'weekly intake': 5, 'favorite ice cream': ['MCC', 'Chocolate']}\n"
     ]
    },
    {
     "data": {
      "text/plain": [
       "{'name': 'Ayodeji Agunbiade',\n",
       " 'weekly intake': 5,\n",
       " 'favorite ice cream': ['MCC', 'Chocolate']}"
      ]
     },
     "execution_count": 65,
     "metadata": {},
     "output_type": "execute_result"
    }
   ],
   "source": [
    "#update / replaceing dict\n",
    "\n",
    "dict_cream['name'] = 'Ayodeji Agunbiade'\n",
    "print(dict_cream)\n",
    "dict_cream"
   ]
  },
  {
   "cell_type": "code",
   "execution_count": 70,
   "id": "ea5b4a3e",
   "metadata": {},
   "outputs": [
    {
     "name": "stdout",
     "output_type": "stream",
     "text": [
      "{'name': 'Ayodeji Agunbiade', 'weekly intake': 5, 'favorite ice cream': ['MCC', 'Chocolate'], 'weight': 400}\n"
     ]
    }
   ],
   "source": [
    "#update / append\n",
    "dict_cream.update({'name': 'Ayodeji Agunbiade', 'weekly intake': 5, 'weight': 400}) \n",
    "print(dict_cream)"
   ]
  },
  {
   "cell_type": "code",
   "execution_count": 71,
   "id": "4c029cef",
   "metadata": {},
   "outputs": [
    {
     "name": "stdout",
     "output_type": "stream",
     "text": [
      "{'name': 'Ayodeji Agunbiade', 'weekly intake': 5, 'favorite ice cream': ['MCC', 'Chocolate']}\n"
     ]
    }
   ],
   "source": [
    "#delete from dict\n",
    "\n",
    "del dict_cream['weight']\n",
    "print(dict_cream)"
   ]
  },
  {
   "cell_type": "code",
   "execution_count": null,
   "id": "aeb8e0b8",
   "metadata": {},
   "outputs": [],
   "source": []
  },
  {
   "cell_type": "markdown",
   "id": "ce47c0cb",
   "metadata": {},
   "source": [
    "# COMPARISON OPERATORS"
   ]
  },
  {
   "cell_type": "code",
   "execution_count": null,
   "id": "0236086e",
   "metadata": {},
   "outputs": [],
   "source": []
  },
  {
   "cell_type": "code",
   "execution_count": null,
   "id": "d983df1f",
   "metadata": {},
   "outputs": [],
   "source": []
  },
  {
   "cell_type": "code",
   "execution_count": null,
   "id": "1aaf679f",
   "metadata": {},
   "outputs": [],
   "source": []
  },
  {
   "cell_type": "code",
   "execution_count": null,
   "id": "6c7728af",
   "metadata": {},
   "outputs": [],
   "source": []
  },
  {
   "cell_type": "markdown",
   "id": "7755e2da",
   "metadata": {},
   "source": [
    "# LOGICAL OPERATORS"
   ]
  },
  {
   "cell_type": "code",
   "execution_count": 6,
   "id": "f9d2afc1",
   "metadata": {},
   "outputs": [
    {
     "data": {
      "text/plain": [
       "False"
      ]
     },
     "execution_count": 6,
     "metadata": {},
     "output_type": "execute_result"
    }
   ],
   "source": [
    "# with and Operator both statement must be true\n",
    "\n",
    "(10 > 50) and (50 >10)"
   ]
  },
  {
   "cell_type": "code",
   "execution_count": 7,
   "id": "8c14dcd3",
   "metadata": {},
   "outputs": [
    {
     "data": {
      "text/plain": [
       "True"
      ]
     },
     "execution_count": 7,
     "metadata": {},
     "output_type": "execute_result"
    }
   ],
   "source": [
    "# with or Operator one of the two statement must be true\n",
    "\n",
    "(10 > 50) or (50 >10)"
   ]
  },
  {
   "cell_type": "code",
   "execution_count": 9,
   "id": "e53e0544",
   "metadata": {},
   "outputs": [
    {
     "data": {
      "text/plain": [
       "True"
      ]
     },
     "execution_count": 9,
     "metadata": {},
     "output_type": "execute_result"
    }
   ],
   "source": [
    "# in Operator. Returns true if a sequence ith the specified value is present in the object\n",
    "\n",
    "ice_cream = 'I love chocolate ice cream'\n",
    "\n",
    "'love' in ice_cream"
   ]
  },
  {
   "cell_type": "code",
   "execution_count": 13,
   "id": "43dccf53",
   "metadata": {},
   "outputs": [
    {
     "data": {
      "text/plain": [
       "True"
      ]
     },
     "execution_count": 13,
     "metadata": {},
     "output_type": "execute_result"
    }
   ],
   "source": [
    "scoops = [1,2,3,4,5]\n",
    "\n",
    "5 in scoops"
   ]
  },
  {
   "cell_type": "code",
   "execution_count": null,
   "id": "4d160f34",
   "metadata": {},
   "outputs": [],
   "source": []
  },
  {
   "cell_type": "code",
   "execution_count": null,
   "id": "1df9c5f0",
   "metadata": {},
   "outputs": [],
   "source": [
    "# notin Operator Returns True if a sequence ith the specified value is not present in the object"
   ]
  },
  {
   "cell_type": "code",
   "execution_count": 12,
   "id": "e7a8289a",
   "metadata": {},
   "outputs": [
    {
     "data": {
      "text/plain": [
       "True"
      ]
     },
     "execution_count": 12,
     "metadata": {},
     "output_type": "execute_result"
    }
   ],
   "source": [
    "scoops = [1,2,3,4,5]\n",
    "wanted_scoops = 8\n",
    "\n",
    "wanted_scoops not in scoops"
   ]
  },
  {
   "cell_type": "code",
   "execution_count": 14,
   "id": "d15223e8",
   "metadata": {},
   "outputs": [
    {
     "data": {
      "text/plain": [
       "True"
      ]
     },
     "execution_count": 14,
     "metadata": {},
     "output_type": "execute_result"
    }
   ],
   "source": [
    "'yam' not in ice_cream"
   ]
  },
  {
   "cell_type": "code",
   "execution_count": null,
   "id": "404fe6d7",
   "metadata": {},
   "outputs": [],
   "source": []
  },
  {
   "cell_type": "markdown",
   "id": "4e7e0b3f",
   "metadata": {},
   "source": [
    "# IF - ELIF - ELSE STATEMEMTS"
   ]
  },
  {
   "cell_type": "code",
   "execution_count": 16,
   "id": "1b492412",
   "metadata": {},
   "outputs": [
    {
     "name": "stdout",
     "output_type": "stream",
     "text": [
      "It goes\n"
     ]
    }
   ],
   "source": [
    "if 40 > 27:\n",
    "    print('It goes')"
   ]
  },
  {
   "cell_type": "code",
   "execution_count": 19,
   "id": "6503702d",
   "metadata": {},
   "outputs": [
    {
     "name": "stdout",
     "output_type": "stream",
     "text": [
      "elif worked\n"
     ]
    }
   ],
   "source": [
    "if 40 < 27:\n",
    "    print('It goes')\n",
    "elif 40 < 45:\n",
    "    print('elif worked')\n",
    "else:\n",
    "    print('It did not work')"
   ]
  },
  {
   "cell_type": "code",
   "execution_count": 20,
   "id": "3226788d",
   "metadata": {},
   "outputs": [
    {
     "name": "stdout",
     "output_type": "stream",
     "text": [
      "elif 3 worked\n"
     ]
    }
   ],
   "source": [
    "if 25 < 10:\n",
    "    print('It worked')\n",
    "elif 25 < 20:\n",
    "    print('elif worked')\n",
    "elif 25 < 21:\n",
    "    print('elif 2 worked')\n",
    "elif 25 < 40:\n",
    "    print('elif 3 worked')\n",
    "elif 25 < 50:\n",
    "    print('elif 4 worked')    \n",
    "else:\n",
    "    print('it did not work')"
   ]
  },
  {
   "cell_type": "code",
   "execution_count": 21,
   "id": "2a07808b",
   "metadata": {},
   "outputs": [
    {
     "name": "stdout",
     "output_type": "stream",
     "text": [
      "yes\n"
     ]
    }
   ],
   "source": [
    "print('yes') if 10 > 3 else print('no')"
   ]
  },
  {
   "cell_type": "code",
   "execution_count": 23,
   "id": "ee0d705d",
   "metadata": {},
   "outputs": [
    {
     "name": "stdout",
     "output_type": "stream",
     "text": [
      "worked\n",
      "This is nested if statement\n"
     ]
    }
   ],
   "source": [
    "if (25 < 20) or (1 < 5):\n",
    "    print('worked')\n",
    "    if 30 > 28:\n",
    "        print('This is nested if statement')\n",
    "elif 25 < 20:\n",
    "    print('elif worked')\n",
    "elif 25 < 21:\n",
    "    print('elif 2 worked')\n",
    "elif 25 < 40:\n",
    "    print('elif 3 worked')\n",
    "elif 25 < 50:\n",
    "    print('elif 4 worked')    \n",
    "else:\n",
    "    print('it did not work')        "
   ]
  },
  {
   "cell_type": "code",
   "execution_count": null,
   "id": "a8212d56",
   "metadata": {},
   "outputs": [],
   "source": []
  },
  {
   "cell_type": "markdown",
   "id": "d2c1f5a4",
   "metadata": {},
   "source": [
    "# FOR LOOPS\n",
    "\n"
   ]
  },
  {
   "cell_type": "code",
   "execution_count": 24,
   "id": "ac4ba05a",
   "metadata": {},
   "outputs": [
    {
     "name": "stdout",
     "output_type": "stream",
     "text": [
      "1\n",
      "2\n",
      "3\n",
      "4\n",
      "5\n",
      "6\n"
     ]
    }
   ],
   "source": [
    "integers = [1,2,3,4,5,6]\n",
    "\n",
    "for num in integers:\n",
    "    print(num)"
   ]
  },
  {
   "cell_type": "code",
   "execution_count": 26,
   "id": "1b2f93ec",
   "metadata": {},
   "outputs": [
    {
     "name": "stdout",
     "output_type": "stream",
     "text": [
      "12\n"
     ]
    }
   ],
   "source": [
    "for num in integers:\n",
    "    if num == 2:\n",
    "        print(num + 10)\n",
    "    "
   ]
  },
  {
   "cell_type": "code",
   "execution_count": 28,
   "id": "372c7a68",
   "metadata": {},
   "outputs": [
    {
     "name": "stdout",
     "output_type": "stream",
     "text": [
      "Ayodeji Agunbiade\n",
      "4\n",
      "['MCC', 'Chocolate']\n"
     ]
    }
   ],
   "source": [
    "ice_cream_dict ={'name': 'Ayodeji Agunbiade', 'weekly intake': 4, 'favorite ice cream': ['MCC', 'Chocolate']}\n",
    "\n",
    "for cream in ice_cream_dict.values():\n",
    "    print(cream)"
   ]
  },
  {
   "cell_type": "code",
   "execution_count": 30,
   "id": "af90a07f",
   "metadata": {},
   "outputs": [
    {
     "name": "stdout",
     "output_type": "stream",
     "text": [
      "name --> Ayodeji Agunbiade\n",
      "weekly intake --> 4\n",
      "favorite ice cream --> ['MCC', 'Chocolate']\n"
     ]
    }
   ],
   "source": [
    "for key, value in ice_cream_dict.items():\n",
    "    print(key, '-->', value)"
   ]
  },
  {
   "cell_type": "code",
   "execution_count": null,
   "id": "86a8c703",
   "metadata": {},
   "outputs": [],
   "source": []
  },
  {
   "cell_type": "markdown",
   "id": "a52fc646",
   "metadata": {},
   "source": [
    "# NESTED FOR LOOPS"
   ]
  },
  {
   "cell_type": "code",
   "execution_count": 33,
   "id": "b9007062",
   "metadata": {},
   "outputs": [
    {
     "name": "stdout",
     "output_type": "stream",
     "text": [
      "vanilla topped with Hot Fudge\n",
      "vanilla topped with Oreos\n",
      "vanilla topped with Marshmallows\n",
      "chocolate topped with Hot Fudge\n",
      "chocolate topped with Oreos\n",
      "chocolate topped with Marshmallows\n",
      "cookie dough topped with Hot Fudge\n",
      "cookie dough topped with Oreos\n",
      "cookie dough topped with Marshmallows\n"
     ]
    }
   ],
   "source": [
    "flavors = ['vanilla', 'chocolate', 'cookie dough']\n",
    "toppings =['Hot Fudge', 'Oreos', 'Marshmallows']\n",
    "\n",
    "\n",
    "for one in flavors:\n",
    "    for two in toppings:\n",
    "        print(one, 'topped with', two)\n",
    "        "
   ]
  },
  {
   "cell_type": "code",
   "execution_count": null,
   "id": "35108feb",
   "metadata": {},
   "outputs": [],
   "source": []
  },
  {
   "cell_type": "markdown",
   "id": "39d7d2a3",
   "metadata": {},
   "source": [
    "# WHILE LOOPS"
   ]
  },
  {
   "cell_type": "code",
   "execution_count": 41,
   "id": "f2df9802",
   "metadata": {},
   "outputs": [
    {
     "name": "stdout",
     "output_type": "stream",
     "text": [
      "0\n",
      "1\n",
      "2\n",
      "3\n",
      "4\n"
     ]
    }
   ],
   "source": [
    "number = 0\n",
    "\n",
    "while number < 5:\n",
    "    print(number)\n",
    "    number= number + 1"
   ]
  },
  {
   "cell_type": "code",
   "execution_count": 42,
   "id": "487cfb1e",
   "metadata": {},
   "outputs": [
    {
     "name": "stdout",
     "output_type": "stream",
     "text": [
      "0\n",
      "1\n",
      "2\n",
      "3\n"
     ]
    }
   ],
   "source": [
    "#break\n",
    "\n",
    "number = 0\n",
    "\n",
    "while number < 5:\n",
    "    print(number)\n",
    "    if number == 3:\n",
    "        break\n",
    "    number = number +1    "
   ]
  },
  {
   "cell_type": "code",
   "execution_count": 44,
   "id": "9606805f",
   "metadata": {},
   "outputs": [
    {
     "name": "stdout",
     "output_type": "stream",
     "text": [
      "0\n",
      "1\n",
      "2\n",
      "3\n",
      "4\n",
      "no longer < 5\n"
     ]
    }
   ],
   "source": [
    "#break\n",
    "\n",
    "number = 0\n",
    "\n",
    "while number < 5:\n",
    "    print(number)\n",
    "    if number == 6:\n",
    "        break\n",
    "    number = number +1  \n",
    "else:\n",
    "    print('no longer < 5')"
   ]
  },
  {
   "cell_type": "code",
   "execution_count": 48,
   "id": "cfa84b26",
   "metadata": {},
   "outputs": [
    {
     "name": "stdout",
     "output_type": "stream",
     "text": [
      "1\n",
      "2\n",
      "4\n",
      "5\n",
      "no longer < 5\n"
     ]
    }
   ],
   "source": [
    "#continue\n",
    "\n",
    "number = 0\n",
    "\n",
    "while number < 5:\n",
    "    number = number +1 \n",
    "    if number == 3:\n",
    "        continue\n",
    "    print(number) \n",
    "else:\n",
    "    print('no longer < 5')"
   ]
  },
  {
   "cell_type": "code",
   "execution_count": null,
   "id": "d4a9c7ed",
   "metadata": {},
   "outputs": [],
   "source": []
  },
  {
   "cell_type": "markdown",
   "id": "660e7e02",
   "metadata": {},
   "source": [
    "# FUNCTIONS"
   ]
  },
  {
   "cell_type": "code",
   "execution_count": 51,
   "id": "73300820",
   "metadata": {},
   "outputs": [],
   "source": [
    "def first():\n",
    "    print('Getting started')"
   ]
  },
  {
   "cell_type": "code",
   "execution_count": 53,
   "id": "3797097d",
   "metadata": {},
   "outputs": [
    {
     "name": "stdout",
     "output_type": "stream",
     "text": [
      "Getting started\n"
     ]
    }
   ],
   "source": [
    "first()"
   ]
  },
  {
   "cell_type": "code",
   "execution_count": 60,
   "id": "ee1ddb11",
   "metadata": {},
   "outputs": [],
   "source": [
    "def test_para(num):\n",
    "    print(num**2)"
   ]
  },
  {
   "cell_type": "code",
   "execution_count": 61,
   "id": "6f166dfe",
   "metadata": {},
   "outputs": [
    {
     "name": "stdout",
     "output_type": "stream",
     "text": [
      "4\n"
     ]
    }
   ],
   "source": [
    "test_para(2)"
   ]
  },
  {
   "cell_type": "code",
   "execution_count": 62,
   "id": "7309dfe5",
   "metadata": {},
   "outputs": [],
   "source": [
    "def test_para(num1, num2):\n",
    "    print(num1**2 + num2)"
   ]
  },
  {
   "cell_type": "code",
   "execution_count": 63,
   "id": "3567dad9",
   "metadata": {},
   "outputs": [
    {
     "name": "stdout",
     "output_type": "stream",
     "text": [
      "105\n"
     ]
    }
   ],
   "source": [
    "test_para(10, 5)"
   ]
  },
  {
   "cell_type": "code",
   "execution_count": 66,
   "id": "9aad4ff3",
   "metadata": {},
   "outputs": [],
   "source": [
    "#Arbitary arguments: is used when you don't know how many argument u will be using the function for later.\n",
    "\n",
    "args_tuple= (6,5,4,3,2,1)\n",
    "\n",
    "def num_args(*num):\n",
    "    print(num[0]*num[1])"
   ]
  },
  {
   "cell_type": "code",
   "execution_count": 65,
   "id": "19ac9ef4",
   "metadata": {},
   "outputs": [
    {
     "name": "stdout",
     "output_type": "stream",
     "text": [
      "30\n"
     ]
    }
   ],
   "source": [
    "num_args(6,5,4,3,2,1)"
   ]
  },
  {
   "cell_type": "code",
   "execution_count": 67,
   "id": "c9b287f7",
   "metadata": {},
   "outputs": [
    {
     "name": "stdout",
     "output_type": "stream",
     "text": [
      "30\n"
     ]
    }
   ],
   "source": [
    "num_args(*args_tuple)"
   ]
  },
  {
   "cell_type": "code",
   "execution_count": 69,
   "id": "d7a8ebd5",
   "metadata": {},
   "outputs": [],
   "source": [
    "#keyword arguments:  we dont have to follow the arrangemnt of the argument when caling the functionas below..\n",
    "\n",
    "def number_squared(number, power):\n",
    "    print(number**power)\n"
   ]
  },
  {
   "cell_type": "code",
   "execution_count": 72,
   "id": "c85d2813",
   "metadata": {},
   "outputs": [
    {
     "name": "stdout",
     "output_type": "stream",
     "text": [
      "32\n"
     ]
    }
   ],
   "source": [
    "number_squared(power=5, number=2)"
   ]
  },
  {
   "cell_type": "code",
   "execution_count": 73,
   "id": "0d3d793d",
   "metadata": {},
   "outputs": [
    {
     "name": "stdout",
     "output_type": "stream",
     "text": [
      "25\n"
     ]
    }
   ],
   "source": [
    "number_squared(number=5, power=2)"
   ]
  },
  {
   "cell_type": "code",
   "execution_count": 77,
   "id": "33c346c0",
   "metadata": {},
   "outputs": [],
   "source": [
    "def number_kwarg(**number):\n",
    "    print('my number is: '+ number['integer'] + 'My other number: '+ number['integer2'])"
   ]
  },
  {
   "cell_type": "code",
   "execution_count": 78,
   "id": "2b57eab5",
   "metadata": {},
   "outputs": [
    {
     "name": "stdout",
     "output_type": "stream",
     "text": [
      "my number is: 2305My other number: 359\n"
     ]
    }
   ],
   "source": [
    "number_kwarg(integer='2305', integer2='359')"
   ]
  },
  {
   "cell_type": "code",
   "execution_count": null,
   "id": "3ab12e51",
   "metadata": {},
   "outputs": [],
   "source": []
  },
  {
   "cell_type": "code",
   "execution_count": null,
   "id": "053f34b0",
   "metadata": {},
   "outputs": [],
   "source": []
  },
  {
   "cell_type": "markdown",
   "id": "e2e062f1",
   "metadata": {},
   "source": [
    "# CONVERTING DATA TYPES "
   ]
  },
  {
   "cell_type": "code",
   "execution_count": 79,
   "id": "de9f6d83",
   "metadata": {},
   "outputs": [
    {
     "data": {
      "text/plain": [
       "int"
      ]
     },
     "execution_count": 79,
     "metadata": {},
     "output_type": "execute_result"
    }
   ],
   "source": [
    "num_int = 7\n",
    "type(num_int)\n"
   ]
  },
  {
   "cell_type": "code",
   "execution_count": 81,
   "id": "988a239a",
   "metadata": {},
   "outputs": [
    {
     "data": {
      "text/plain": [
       "str"
      ]
     },
     "execution_count": 81,
     "metadata": {},
     "output_type": "execute_result"
    }
   ],
   "source": [
    "num_str = '7'\n",
    "type(num_str)"
   ]
  },
  {
   "cell_type": "code",
   "execution_count": 84,
   "id": "f5b36578",
   "metadata": {},
   "outputs": [
    {
     "data": {
      "text/plain": [
       "int"
      ]
     },
     "execution_count": 84,
     "metadata": {},
     "output_type": "execute_result"
    }
   ],
   "source": [
    "#convert STRING to int\n",
    "\n",
    "num_str_conv = int(num_str)\n",
    "type(num_str_conv)"
   ]
  },
  {
   "cell_type": "code",
   "execution_count": 87,
   "id": "10412cba",
   "metadata": {},
   "outputs": [
    {
     "data": {
      "text/plain": [
       "str"
      ]
     },
     "execution_count": 87,
     "metadata": {},
     "output_type": "execute_result"
    }
   ],
   "source": [
    "num_int_conv = str(num_int)\n",
    "type(num_int_conv)"
   ]
  },
  {
   "cell_type": "code",
   "execution_count": 88,
   "id": "90c7c494",
   "metadata": {},
   "outputs": [],
   "source": [
    "list_type = [1,2,3]"
   ]
  },
  {
   "cell_type": "code",
   "execution_count": 90,
   "id": "8709a2c6",
   "metadata": {},
   "outputs": [
    {
     "data": {
      "text/plain": [
       "type"
      ]
     },
     "execution_count": 90,
     "metadata": {},
     "output_type": "execute_result"
    }
   ],
   "source": [
    "#list to tuple\n",
    "\n",
    "list_to_tuple = type(list_type)\n",
    "type(list_to_tuple)"
   ]
  },
  {
   "cell_type": "code",
   "execution_count": 92,
   "id": "2c6f1d18",
   "metadata": {},
   "outputs": [
    {
     "data": {
      "text/plain": [
       "dict"
      ]
     },
     "execution_count": 92,
     "metadata": {},
     "output_type": "execute_result"
    }
   ],
   "source": [
    "#dict to list\n",
    "\n",
    "dict_type = {'name': \"Ayo\", 'age': 30, 'hair': 'black'}\n",
    "type(dict_type)"
   ]
  },
  {
   "cell_type": "code",
   "execution_count": 94,
   "id": "1d7c8291",
   "metadata": {},
   "outputs": [
    {
     "name": "stdout",
     "output_type": "stream",
     "text": [
      "dict_items([('name', 'Ayo'), ('age', 30), ('hair', 'black')])\n",
      "dict_values(['Ayo', 30, 'black'])\n",
      "dict_keys(['name', 'age', 'hair'])\n"
     ]
    }
   ],
   "source": [
    "print(dict_type.items())\n",
    "print(dict_type.values())\n",
    "print(dict_type.keys())"
   ]
  },
  {
   "cell_type": "code",
   "execution_count": 95,
   "id": "298c36b9",
   "metadata": {},
   "outputs": [
    {
     "data": {
      "text/plain": [
       "['name', 'age', 'hair']"
      ]
     },
     "execution_count": 95,
     "metadata": {},
     "output_type": "execute_result"
    }
   ],
   "source": [
    "#convert keys() to list\n",
    "\n",
    "list(dict_type.keys())"
   ]
  },
  {
   "cell_type": "code",
   "execution_count": 97,
   "id": "f78f7466",
   "metadata": {},
   "outputs": [
    {
     "data": {
      "text/plain": [
       "['Ayo', 30, 'black']"
      ]
     },
     "execution_count": 97,
     "metadata": {},
     "output_type": "execute_result"
    }
   ],
   "source": [
    "#convert values() to list\n",
    "list(dict_type.values())"
   ]
  },
  {
   "cell_type": "code",
   "execution_count": 99,
   "id": "70616af9",
   "metadata": {},
   "outputs": [
    {
     "data": {
      "text/plain": [
       "['name', 'age', 'hair']"
      ]
     },
     "execution_count": 99,
     "metadata": {},
     "output_type": "execute_result"
    }
   ],
   "source": [
    "list(dict_type)   # converting the whole dict_type couldn't work, it is better to convert keys and values differently "
   ]
  },
  {
   "cell_type": "code",
   "execution_count": 100,
   "id": "7d6ba659",
   "metadata": {},
   "outputs": [],
   "source": [
    "#converting long strings to list\n",
    "\n",
    "long_str = 'I like football'"
   ]
  },
  {
   "cell_type": "code",
   "execution_count": 101,
   "id": "7d525d43",
   "metadata": {},
   "outputs": [
    {
     "data": {
      "text/plain": [
       "['I', ' ', 'l', 'i', 'k', 'e', ' ', 'f', 'o', 'o', 't', 'b', 'a', 'l', 'l']"
      ]
     },
     "execution_count": 101,
     "metadata": {},
     "output_type": "execute_result"
    }
   ],
   "source": [
    "list(long_str)"
   ]
  },
  {
   "cell_type": "code",
   "execution_count": 102,
   "id": "e878f013",
   "metadata": {},
   "outputs": [
    {
     "data": {
      "text/plain": [
       "{' ', 'I', 'a', 'b', 'e', 'f', 'i', 'k', 'l', 'o', 't'}"
      ]
     },
     "execution_count": 102,
     "metadata": {},
     "output_type": "execute_result"
    }
   ],
   "source": [
    "set(long_str)"
   ]
  },
  {
   "cell_type": "code",
   "execution_count": null,
   "id": "d99d95dd",
   "metadata": {},
   "outputs": [],
   "source": []
  },
  {
   "cell_type": "markdown",
   "id": "23ac21ff",
   "metadata": {},
   "source": [
    "# BMI CALCULATOR\n"
   ]
  },
  {
   "cell_type": "code",
   "execution_count": null,
   "id": "f0de3336",
   "metadata": {},
   "outputs": [],
   "source": []
  }
 ],
 "metadata": {
  "kernelspec": {
   "display_name": "Python 3 (ipykernel)",
   "language": "python",
   "name": "python3"
  },
  "language_info": {
   "codemirror_mode": {
    "name": "ipython",
    "version": 3
   },
   "file_extension": ".py",
   "mimetype": "text/x-python",
   "name": "python",
   "nbconvert_exporter": "python",
   "pygments_lexer": "ipython3",
   "version": "3.10.9"
  }
 },
 "nbformat": 4,
 "nbformat_minor": 5
}
