{
 "cells": [
  {
   "cell_type": "code",
   "execution_count": 13,
   "id": "4e07b4e7",
   "metadata": {},
   "outputs": [],
   "source": [
    "import re"
   ]
  },
  {
   "cell_type": "code",
   "execution_count": 18,
   "id": "d823391a",
   "metadata": {},
   "outputs": [],
   "source": [
    "#match()\tFind the pattern at the beginning of a string\n",
    "#search()\tReturn the first match of a pattern in a string\n",
    "#findall()\tReturn all matches of a pattern in a string\n",
    "#finditer()\tReturn all matches of a pattern as an iterator\n",
    "\n",
    "\n"
   ]
  },
  {
   "cell_type": "code",
   "execution_count": 96,
   "id": "1ce3fa63",
   "metadata": {},
   "outputs": [],
   "source": [
    "#Use \\d character set to match any single digit.\n",
    "#Use \\w character set to match any single word character.\n",
    "#Use \\s character set to match any whitespace.\n",
    "#The \\D, \\W, \\S character set are the inverse sets of \\d, \\w, and \\s character set.\n",
    "#Use the dot character set (.) to match any character but a new line."
   ]
  },
  {
   "cell_type": "code",
   "execution_count": null,
   "id": "f51f0e3e",
   "metadata": {},
   "outputs": [],
   "source": []
  },
  {
   "cell_type": "code",
   "execution_count": null,
   "id": "37b68915",
   "metadata": {},
   "outputs": [],
   "source": []
  },
  {
   "cell_type": "code",
   "execution_count": 14,
   "id": "4782e8c6",
   "metadata": {},
   "outputs": [],
   "source": [
    "#compile the regular expression into a Pattern object:\n",
    "# The '\\d' is a digit character set that matches any single digit from 0 to 9.\n",
    "\n",
    "p = re.compile('\\d')"
   ]
  },
  {
   "cell_type": "code",
   "execution_count": null,
   "id": "f1d05062",
   "metadata": {},
   "outputs": [],
   "source": []
  },
  {
   "cell_type": "code",
   "execution_count": 17,
   "id": "d245b90d",
   "metadata": {},
   "outputs": [
    {
     "name": "stdout",
     "output_type": "stream",
     "text": [
      "['2', '4', '0', '5', '2', '0', '2', '3']\n"
     ]
    }
   ],
   "source": [
    "#use one of the methods of the Pattern object to match a string:\n",
    "\n",
    "s = \"today is 24 of 05, 2023\"\n",
    "\n",
    "result = p.findall(s)\n",
    "print(result)"
   ]
  },
  {
   "cell_type": "code",
   "execution_count": 21,
   "id": "5db26853",
   "metadata": {},
   "outputs": [
    {
     "name": "stdout",
     "output_type": "stream",
     "text": [
      "today is 24 of 05, 2023\n"
     ]
    }
   ],
   "source": [
    "# you can just search for your pattarn direct without creating a variable for it first\n",
    "t = \"today is 24 of 05, 2023\"\n",
    "\n",
    "test= re.findall('\\d', t)\n",
    "print(t)"
   ]
  },
  {
   "cell_type": "code",
   "execution_count": null,
   "id": "f8e7c180",
   "metadata": {},
   "outputs": [],
   "source": []
  },
  {
   "cell_type": "markdown",
   "id": "290cbbe8",
   "metadata": {},
   "source": [
    "MATCH()"
   ]
  },
  {
   "cell_type": "code",
   "execution_count": 30,
   "id": "f4839ace",
   "metadata": {},
   "outputs": [
    {
     "name": "stdout",
     "output_type": "stream",
     "text": [
      "<class 're.Match'>\n",
      "<re.Match object; span=(9, 11), match='10'>\n"
     ]
    }
   ],
   "source": [
    "#In this example, the search() function returns the first two digits in the string s as the Match object.\n",
    "#first 1 digit is 3\n",
    "#first 2 digit is 10 and second 2 digit it 04\n",
    "#4 digit is 2021\n",
    "\n",
    "s = \"Python 3.10 was released on October 04, 2021.\"\n",
    "\n",
    "pattern = '\\d{2}'\n",
    "match = re.search(pattern, s) \n",
    "print(type(match))\n",
    "print(match)\n"
   ]
  },
  {
   "cell_type": "code",
   "execution_count": 33,
   "id": "dede27dd",
   "metadata": {},
   "outputs": [],
   "source": [
    "#Match object\n",
    "#The Match object provides the information about the matched string. It has the following important methods:\n",
    "\n",
    "#group()\tReturn the matched string\n",
    "#start()\tReturn the starting position of the match\n",
    "#end()\t    Return the ending position of the match\n",
    "#span()\t    Return a tuple (start, end) that specifies the positions of the match"
   ]
  },
  {
   "cell_type": "code",
   "execution_count": 53,
   "id": "5d0bba7f",
   "metadata": {},
   "outputs": [
    {
     "name": "stdout",
     "output_type": "stream",
     "text": [
      "Matched string: 3\n",
      "Starting position: 7\n",
      "Ending position: 8\n",
      "Positions: (7, 8)\n"
     ]
    }
   ],
   "source": [
    "\n",
    "s = \"Python 3.10 was released on October 04, 2021.\"\n",
    "result = re.search('\\d', s) \n",
    "\n",
    "print('Matched string:',result.group())\n",
    "print('Starting position:', result.start())\n",
    "print('Ending position:',result.end())\n",
    "print('Positions:',result.span())"
   ]
  },
  {
   "cell_type": "code",
   "execution_count": null,
   "id": "dfc8fe36",
   "metadata": {},
   "outputs": [],
   "source": []
  },
  {
   "cell_type": "code",
   "execution_count": 43,
   "id": "89bb1129",
   "metadata": {},
   "outputs": [
    {
     "name": "stdout",
     "output_type": "stream",
     "text": [
      "<re.Match object; span=(0, 6), match='Python'>\n",
      "None\n",
      "<re.Match object; span=(0, 6), match='Jython'>\n",
      "None\n"
     ]
    }
   ],
   "source": [
    "#\\w for word character \n",
    "\n",
    "l = ['Python', \n",
    "    'CPython is an implementation of Python written in C', \n",
    "    'Jython is a Java implementation of Python',\n",
    "     'IronPython is Python on .NET framework']\n",
    "\n",
    "pattern = '\\wython'\n",
    "for s in l:\n",
    "    result = re.match(pattern,s)\n",
    "    print(result)"
   ]
  },
  {
   "cell_type": "raw",
   "id": "7e2c78ef",
   "metadata": {},
   "source": [
    "in this example, the \\w is the word character set that matches any single character.\n",
    "\n",
    "The \\wython matches any string that starts with any sing word character and is followed by the literal string ython, for example, Python.\n",
    "\n",
    "Since the match() function only finds the pattern at the beginning of a string, the following strings match the pattern:\n",
    "\n",
    "Python\n",
    "Jython is a Java implementation of Python\n"
   ]
  },
  {
   "cell_type": "code",
   "execution_count": null,
   "id": "33bc8c81",
   "metadata": {},
   "outputs": [],
   "source": [
    "#fullmatch()\n",
    "\n",
    "#The fullmatch() function returns a Match object if the whole string matches a pattern or None otherwise. \n",
    "#The following example uses the fullmatch() function to match a string with four digits:"
   ]
  },
  {
   "cell_type": "code",
   "execution_count": 52,
   "id": "85bc60a4",
   "metadata": {},
   "outputs": [
    {
     "name": "stdout",
     "output_type": "stream",
     "text": [
      "None\n"
     ]
    }
   ],
   "source": [
    "#s = \"2021\"\n",
    "pattern = '\\d{4}'\n",
    "result = re.fullmatch(pattern, s)\n",
    "print(result)"
   ]
  },
  {
   "cell_type": "code",
   "execution_count": null,
   "id": "b54b7bb2",
   "metadata": {},
   "outputs": [],
   "source": []
  },
  {
   "cell_type": "markdown",
   "id": "5fdefe92",
   "metadata": {},
   "source": [
    "# Python regex character sets"
   ]
  },
  {
   "cell_type": "markdown",
   "id": "cadb0796",
   "metadata": {},
   "source": [
    "A character set (or a character class) is a set of characters, for example, digits (from 0 to 9), alphabets (from a to z), and whitespace."
   ]
  },
  {
   "cell_type": "markdown",
   "id": "ff3f06c1",
   "metadata": {},
   "source": [
    "\\d: digit character set\n",
    "Regular expressions use \\d to represent a digit character set that matches a single digit from 0 to 9."
   ]
  },
  {
   "cell_type": "code",
   "execution_count": 59,
   "id": "52f8bb60",
   "metadata": {},
   "outputs": [
    {
     "name": "stdout",
     "output_type": "stream",
     "text": [
      "3\n",
      "0\n",
      "2\n",
      "0\n",
      "0\n",
      "8\n"
     ]
    }
   ],
   "source": [
    "s = \"Python 3.0 was released in 2008\"\n",
    "\n",
    "matches = re.finditer('\\d', s)\n",
    "\n",
    "for match in matches:\n",
    "    print(match.group())"
   ]
  },
  {
   "cell_type": "code",
   "execution_count": 61,
   "id": "590ba910",
   "metadata": {},
   "outputs": [
    {
     "name": "stdout",
     "output_type": "stream",
     "text": [
      "20\n",
      "08\n"
     ]
    }
   ],
   "source": [
    "#To match a group of two digits, you use the \\d\\d\n",
    "\n",
    "s = 'Python 3.0 was released in 2008'\n",
    "matches = re.finditer('\\d\\d', s)\n",
    "for match in matches:\n",
    "    print(match.group())"
   ]
  },
  {
   "cell_type": "code",
   "execution_count": 62,
   "id": "5e5b4cb2",
   "metadata": {},
   "outputs": [
    {
     "name": "stdout",
     "output_type": "stream",
     "text": [
      "2008\n"
     ]
    }
   ],
   "source": [
    "#Similarly, you can match a group of four digits using the \\d\\d\\d\\d pattern:\n",
    "s = 'Python 3.0 was released in 2008'\n",
    "matches = re.finditer('\\d\\d\\d\\d', s)\n",
    "for match in matches:\n",
    "    print(match.group())"
   ]
  },
  {
   "cell_type": "code",
   "execution_count": 70,
   "id": "ff17ce76",
   "metadata": {},
   "outputs": [
    {
     "name": "stdout",
     "output_type": "stream",
     "text": [
      "2008\n"
     ]
    }
   ],
   "source": [
    "s = 'Python 3.0 was released in 2008'\n",
    "matches = re.finditer('\\d{4}', s)\n",
    "for match in matches:\n",
    "    print(match.group())                       #better format"
   ]
  },
  {
   "cell_type": "code",
   "execution_count": null,
   "id": "07beb8c1",
   "metadata": {},
   "outputs": [],
   "source": []
  },
  {
   "cell_type": "markdown",
   "id": "b2dd82ab",
   "metadata": {},
   "source": [
    "\\w: the word character set\n",
    "Regular expressions use \\w to represent the word character set. The \\w matches a single ASCII character including Latin alphabet, digit, and underscore (_)."
   ]
  },
  {
   "cell_type": "code",
   "execution_count": 77,
   "id": "383772d8",
   "metadata": {},
   "outputs": [
    {
     "name": "stdout",
     "output_type": "stream",
     "text": [
      "P\n",
      "y\n",
      "t\n",
      "h\n",
      "o\n",
      "n\n",
      "_\n",
      "3\n",
      "0\n"
     ]
    }
   ],
   "source": [
    "s = 'Python _ 3.0'\n",
    "matches = re.finditer('\\w', s)\n",
    "for match in matches:\n",
    "    print(match.group())"
   ]
  },
  {
   "cell_type": "code",
   "execution_count": null,
   "id": "c7f5ea2a",
   "metadata": {},
   "outputs": [],
   "source": []
  },
  {
   "cell_type": "markdown",
   "id": "421eb769",
   "metadata": {},
   "source": [
    "\\s : whitespace character set\n",
    "The \\s matches whitespace including a space, a tab, a newline, a carriage return, and a vertical tab.\n",
    "\n"
   ]
  },
  {
   "cell_type": "code",
   "execution_count": 80,
   "id": "037116ca",
   "metadata": {},
   "outputs": [
    {
     "name": "stdout",
     "output_type": "stream",
     "text": [
      "<re.Match object; span=(6, 7), match=' '>\n"
     ]
    }
   ],
   "source": [
    "s = \"python 3.0\"\n",
    "\n",
    "matches = re.finditer('\\s', s)\n",
    "\n",
    "for match in matches:\n",
    "    print(match)"
   ]
  },
  {
   "cell_type": "code",
   "execution_count": null,
   "id": "2614456b",
   "metadata": {},
   "outputs": [],
   "source": []
  },
  {
   "cell_type": "code",
   "execution_count": 85,
   "id": "b8c48f60",
   "metadata": {},
   "outputs": [
    {
     "name": "stdout",
     "output_type": "stream",
     "text": [
      "+\n",
      "-\n",
      "(\n",
      ")\n",
      "-\n",
      "-\n"
     ]
    }
   ],
   "source": [
    "#The following example uses the \\D to match the non-digit from a phone number:\n",
    "\n",
    "phone_no = '+1-(650)-513-0514'\n",
    "matches = re.finditer('\\D', phone_no)\n",
    "for match in matches:\n",
    "    print(match.group())"
   ]
  },
  {
   "cell_type": "code",
   "execution_count": 91,
   "id": "94f416b4",
   "metadata": {},
   "outputs": [
    {
     "name": "stdout",
     "output_type": "stream",
     "text": [
      "16505130514\n"
     ]
    }
   ],
   "source": [
    "# To flatten tthe phone number \n",
    "#To turn the phone number +1-(650)-513-0514 into the 16505130514, you can use the sub() function:\n",
    "\n",
    "phone_no = re.sub('\\D', '', '+1-(650)-513-0514')  #Cos \\D is not digit so replace non-digit with ''\n",
    "print(phone_no)"
   ]
  },
  {
   "cell_type": "code",
   "execution_count": null,
   "id": "ab69f61d",
   "metadata": {},
   "outputs": [],
   "source": []
  },
  {
   "cell_type": "markdown",
   "id": "f799224b",
   "metadata": {},
   "source": [
    "The dot(.) character set\n",
    "The dot (.) character set matches any single character except the new line (\\n). The following example uses the dot (.) character set to match every single character but the new line:"
   ]
  },
  {
   "cell_type": "code",
   "execution_count": 95,
   "id": "97969384",
   "metadata": {},
   "outputs": [
    {
     "name": "stdout",
     "output_type": "stream",
     "text": [
      "P\n",
      "y\n",
      "t\n",
      "h\n",
      "o\n",
      "n\n",
      "4\n"
     ]
    }
   ],
   "source": [
    "version = \"Python\\n4\"\n",
    "matches = re.finditer('.', version)\n",
    "for match in matches:\n",
    "    print(match.group())"
   ]
  },
  {
   "cell_type": "code",
   "execution_count": null,
   "id": "742b71b4",
   "metadata": {},
   "outputs": [],
   "source": []
  },
  {
   "cell_type": "code",
   "execution_count": null,
   "id": "e2b80601",
   "metadata": {},
   "outputs": [],
   "source": []
  },
  {
   "cell_type": "code",
   "execution_count": null,
   "id": "e7b5a0c5",
   "metadata": {},
   "outputs": [],
   "source": []
  },
  {
   "cell_type": "code",
   "execution_count": null,
   "id": "ca766f94",
   "metadata": {},
   "outputs": [],
   "source": []
  },
  {
   "cell_type": "code",
   "execution_count": null,
   "id": "6fc0c55f",
   "metadata": {},
   "outputs": [],
   "source": []
  },
  {
   "cell_type": "code",
   "execution_count": null,
   "id": "ccc45c39",
   "metadata": {},
   "outputs": [],
   "source": []
  },
  {
   "cell_type": "code",
   "execution_count": null,
   "id": "a6ba1ae2",
   "metadata": {},
   "outputs": [],
   "source": []
  },
  {
   "cell_type": "code",
   "execution_count": null,
   "id": "c52d1723",
   "metadata": {},
   "outputs": [],
   "source": []
  },
  {
   "cell_type": "code",
   "execution_count": null,
   "id": "5d88f947",
   "metadata": {},
   "outputs": [],
   "source": []
  }
 ],
 "metadata": {
  "kernelspec": {
   "display_name": "Python 3 (ipykernel)",
   "language": "python",
   "name": "python3"
  },
  "language_info": {
   "codemirror_mode": {
    "name": "ipython",
    "version": 3
   },
   "file_extension": ".py",
   "mimetype": "text/x-python",
   "name": "python",
   "nbconvert_exporter": "python",
   "pygments_lexer": "ipython3",
   "version": "3.10.9"
  }
 },
 "nbformat": 4,
 "nbformat_minor": 5
}
